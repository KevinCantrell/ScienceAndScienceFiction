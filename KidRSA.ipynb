{
  "nbformat": 4,
  "nbformat_minor": 0,
  "metadata": {
    "colab": {
      "provenance": [],
      "authorship_tag": "ABX9TyN3JnDfqknuqUtWpegDSEl3",
      "include_colab_link": true
    },
    "kernelspec": {
      "name": "python3",
      "display_name": "Python 3"
    },
    "language_info": {
      "name": "python"
    }
  },
  "cells": [
    {
      "cell_type": "markdown",
      "metadata": {
        "id": "view-in-github",
        "colab_type": "text"
      },
      "source": [
        "<a href=\"https://colab.research.google.com/github/KevinCantrell/ScienceAndScienceFiction/blob/main/KidRSA.ipynb\" target=\"_parent\"><img src=\"https://colab.research.google.com/assets/colab-badge.svg\" alt=\"Open In Colab\"/></a>"
      ]
    },
    {
      "cell_type": "markdown",
      "source": [
        "[Youtube](https://www.youtube.com/watch?v=wGV2-dLLX0k&ab_channel=TaylorGibson) video describing all the basics of this simplified version of public key (asymmetric) encryption.\n",
        "\n",
        "[Text description](https://sites.math.washington.edu/~koblitz/crlogia.html) of Kid-RSA (Example 3)\n",
        "\n",
        "List of 1 and 2 digit primes: 2, 3, 5, 7, 11, 13, 17, 19, 23, 29, 31, 37, 41, 43, 47, 53, 59, 61, 67, 71, 73, 79, 83, 89, 97 (more [here](https://en.wikipedia.org/wiki/List_of_prime_numbers))\n"
      ],
      "metadata": {
        "id": "tfZHJe6je-Ld"
      }
    },
    {
      "cell_type": "code",
      "execution_count": 1,
      "metadata": {
        "colab": {
          "base_uri": "https://localhost:8080/"
        },
        "id": "hOPVCqcze7l-",
        "outputId": "ed4d66d0-8e17-4aee-e3a8-a67325a1bb60"
      },
      "outputs": [
        {
          "output_type": "stream",
          "name": "stdout",
          "text": [
            "Choose a prime integer a: 7\n",
            "Choose a prime integer b: 13\n",
            "M = a*b-1 =  90\n"
          ]
        }
      ],
      "source": [
        "#This is used to generate keys and should be kept private\n",
        "a=int(input(\"Choose a prime integer a: \"))\n",
        "b=int(input(\"Choose a prime integer b: \"))\n",
        "M=a*b-1\n",
        "print(\"M = a*b-1 = \",M)"
      ]
    },
    {
      "cell_type": "code",
      "execution_count": 2,
      "metadata": {
        "colab": {
          "base_uri": "https://localhost:8080/"
        },
        "outputId": "ca313dd7-7421-423e-868a-b4f5b45273df",
        "id": "vCyCHbXFgLcW"
      },
      "outputs": [
        {
          "output_type": "stream",
          "name": "stdout",
          "text": [
            "Choose another integer a': 5\n",
            "Choose another integer b': 11\n",
            "public key (sharable) is (457, 5093) (e,n)\n",
            "private key (keep private) is (1003, 5093) (d,n)\n"
          ]
        }
      ],
      "source": [
        "#This is used to generate keys and should be kept private\n",
        "ap=int(input(\"Choose another integer a': \"))\n",
        "bp=int(input(\"Choose another integer b': \"))\n",
        "encryption=ap*M+a\n",
        "decryption=bp*M+b\n",
        "n=(encryption*decryption-1)/M\n",
        "print(\"public key (sharable) is (\"+str(int(encryption))+\", \"+str(int(n))+\") (e,n)\")\n",
        "print(\"private key (keep private) is (\"+str(int(decryption))+\", \"+str(int(n))+\") (d,n)\")"
      ]
    },
    {
      "cell_type": "code",
      "source": [
        "message=int(input(\"Enter an integer to encrypt: \"))\n",
        "cipher=encryption*message % n\n",
        "print(\"Encrypted message: \", int(cipher))"
      ],
      "metadata": {
        "colab": {
          "base_uri": "https://localhost:8080/"
        },
        "id": "GBjgPdzFiFB9",
        "outputId": "321e2c43-ad62-4e10-f357-f860a2909917"
      },
      "execution_count": 3,
      "outputs": [
        {
          "output_type": "stream",
          "name": "stdout",
          "text": [
            "Enter an integer to encrypt: 66\n",
            "Encrypted message:  4697\n"
          ]
        }
      ]
    },
    {
      "cell_type": "code",
      "source": [
        "e=int(input(\"Enter a public encryption key, e: \"))\n",
        "n=int(input(\"Enter a public n value: \"))\n",
        "message=int(input(\"Enter an integer to encrypt: \"))\n",
        "cipher=e*message % n\n",
        "print(\"Encrypted message: \", int(cipher))"
      ],
      "metadata": {
        "colab": {
          "base_uri": "https://localhost:8080/"
        },
        "outputId": "98b21ccb-9374-4524-e493-4a74ccbaf725",
        "id": "7ZCG050tFjlj"
      },
      "execution_count": 4,
      "outputs": [
        {
          "output_type": "stream",
          "name": "stdout",
          "text": [
            "Enter a public encryption key, e: 457\n",
            "Enter a public n value: 5093\n",
            "Enter an integer to encrypt: 5\n",
            "Encrypted message:  2285\n"
          ]
        }
      ]
    },
    {
      "cell_type": "code",
      "source": [
        "message=int(input(\"Enter an integer to decrypt: \"))\n",
        "decypher=message*decryption % n\n",
        "print(\"Decrypted message: \", int(decypher))"
      ],
      "metadata": {
        "colab": {
          "base_uri": "https://localhost:8080/"
        },
        "id": "D1ln50wPjQoA",
        "outputId": "1dc2eba5-08e4-42dd-897e-35b37777107b"
      },
      "execution_count": 5,
      "outputs": [
        {
          "output_type": "stream",
          "name": "stdout",
          "text": [
            "Enter an integer to decrypt: 2285\n",
            "Decrypted message:  5\n"
          ]
        }
      ]
    },
    {
      "cell_type": "code",
      "source": [
        "e=int(input(\"Enter a public encryption key, e: \"))\n",
        "n=int(input(\"Enter a public n value: \"))\n",
        "message=input(\"Enter the message as charaters: \")\n",
        "print(\"Plain text ASCII values: \")\n",
        "for character in message:\n",
        "  print(ord(character), end=\" \")\n",
        "print()\n",
        "print(\"Encrypted values: \")\n",
        "for character in message:\n",
        "  cipher=e*ord(character) % n\n",
        "  print(cipher, end=\" \")"
      ],
      "metadata": {
        "colab": {
          "base_uri": "https://localhost:8080/"
        },
        "id": "sm9lubOt-g0L",
        "outputId": "581b85e5-65f2-4165-8005-b5ef4111d17e"
      },
      "execution_count": 6,
      "outputs": [
        {
          "output_type": "stream",
          "name": "stdout",
          "text": [
            "Enter a public encryption key, e: 457\n",
            "Enter a public n value: 5093\n",
            "Enter the message as charaters: Hello World!\n",
            "Plain text ASCII values: \n",
            "72 101 108 108 111 32 87 111 114 108 100 33 \n",
            "Encrypted values: \n",
            "2346 320 3519 3519 4890 4438 4108 4890 1168 3519 4956 4895 "
          ]
        }
      ]
    },
    {
      "cell_type": "code",
      "source": [
        "d=int(input(\"Enter a private decryption key, e: \"))\n",
        "n=int(input(\"Enter a public n value: \"))\n",
        "message=input(\"Enter the message as ciphertext: \")\n",
        "message = message.split()\n",
        "plainASCII=[]\n",
        "print(\"Plain text ASCII values: \")\n",
        "for value in message:\n",
        "  plain=d*int(value) % n\n",
        "  print(plain, end=\" \")\n",
        "  plainASCII.append(plain)\n",
        "print()\n",
        "print(\"Message: \")\n",
        "for characterCode in plainASCII:\n",
        "  character=chr(characterCode)\n",
        "  print(character, end=\"\")"
      ],
      "metadata": {
        "colab": {
          "base_uri": "https://localhost:8080/"
        },
        "outputId": "3d35a96f-2728-40c0-e729-cf024d9c73e5",
        "id": "7tVJ5vlKAeSO"
      },
      "execution_count": 7,
      "outputs": [
        {
          "output_type": "stream",
          "name": "stdout",
          "text": [
            "Enter a private decryption key, e: 1003\n",
            "Enter a public n value: 5093\n",
            "Enter the message as ciphertext: 2346 320 3519 3519 4890 4438 4108 4890 1168 3519 4956 4895\n",
            "Plain text ASCII values: \n",
            "72 101 108 108 111 32 87 111 114 108 100 33 \n",
            "Message: \n",
            "Hello World!"
          ]
        }
      ]
    }
  ]
}