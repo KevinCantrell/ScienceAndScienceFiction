{
  "nbformat": 4,
  "nbformat_minor": 0,
  "metadata": {
    "colab": {
      "provenance": [],
      "authorship_tag": "ABX9TyPXHCha0TDfX5/74wvo18Nq",
      "include_colab_link": true
    },
    "kernelspec": {
      "name": "python3",
      "display_name": "Python 3"
    },
    "language_info": {
      "name": "python"
    }
  },
  "cells": [
    {
      "cell_type": "markdown",
      "metadata": {
        "id": "view-in-github",
        "colab_type": "text"
      },
      "source": [
        "<a href=\"https://colab.research.google.com/github/KevinCantrell/ScienceAndScienceFiction/blob/main/NeuralNetworks.ipynb\" target=\"_parent\"><img src=\"https://colab.research.google.com/assets/colab-badge.svg\" alt=\"Open In Colab\"/></a>"
      ]
    },
    {
      "cell_type": "code",
      "execution_count": null,
      "metadata": {
        "id": "JUh1l9KB3NVf"
      },
      "outputs": [],
      "source": [
        "# Import necessary libraries\n",
        "import tensorflow as tf  # For deep learning and model handling\n",
        "from tensorflow.keras import layers, models\n",
        "import numpy as np  # For numerical operations\n",
        "import cv2  # OpenCV for image processing (not used in this script, but commonly included)\n",
        "import matplotlib.pyplot as plt  # For displaying images and plots\n",
        "import PIL.Image  # For handling image operations\n",
        "import ipywidgets as widgets  # For interactive widgets (not used in this script)\n",
        "from google.colab import output, files  # For handling Colab-specific input/output\n",
        "from base64 import b64decode  # For decoding image data from Base64 format\n",
        "import io  # For handling in-memory binary data\n",
        "from IPython.display import display, HTML  # For displaying HTML content in Colab"
      ]
    },
    {
      "cell_type": "code",
      "source": [
        "# -------------------------------\n",
        "# 🔹 Load & Prepare MNIST Dataset\n",
        "# -------------------------------\n",
        "\n",
        "# Load the MNIST dataset, which contains handwritten digits from 0-9.\n",
        "# The dataset is split into a training set and a test set.\n",
        "mnist = tf.keras.datasets.mnist\n",
        "\n",
        "# Load both the training and test sets\n",
        "(x_train, y_train), (x_test, y_test) = mnist.load_data()\n",
        "\n",
        "# Normalize the pixel values to a range between 0 and 1 by dividing by 255\n",
        "# MNIST images originally have pixel values between 0 and 255\n",
        "x_train = x_train / 255.0  # Scaling pixel values to range [0, 1]\n",
        "x_test = x_test / 255.0    # Scaling pixel values for test data\n",
        "\n",
        "# ---------------------------------\n",
        "# 🔹 Define & Train a Simple Model\n",
        "# ---------------------------------\n",
        "\n",
        "# Define a simple Convolutional Neural Network (CNN) model using Keras.\n",
        "# CNNs are particularly good at image classification tasks like MNIST.\n",
        "# summarize loaded dataset\n",
        "\n",
        "print('Train: X=%s, y=%s' % (x_train.shape, y_train.shape))\n",
        "print('Test: X=%s, y=%s' % (x_test.shape, y_test.shape))\n",
        "# plot first few images\n",
        "for i in range(9):\n",
        "\t# define subplot\n",
        "\tplt.subplot(330 + 1 + i)\n",
        "\t# plot raw pixel data\n",
        "\tplt.imshow(x_train[i], cmap=plt.get_cmap('gray'))\n",
        "# show the figure\n",
        "plt.show()"
      ],
      "metadata": {
        "id": "rp0DAN9CFRFc",
        "colab": {
          "base_uri": "https://localhost:8080/",
          "height": 504
        },
        "outputId": "24baaf0b-08bb-4519-af55-bc2e28c51021"
      },
      "execution_count": null,
      "outputs": [
        {
          "output_type": "stream",
          "name": "stdout",
          "text": [
            "Downloading data from https://storage.googleapis.com/tensorflow/tf-keras-datasets/mnist.npz\n",
            "\u001b[1m11490434/11490434\u001b[0m \u001b[32m━━━━━━━━━━━━━━━━━━━━\u001b[0m\u001b[37m\u001b[0m \u001b[1m0s\u001b[0m 0us/step\n",
            "Train: X=(60000, 28, 28), y=(60000,)\n",
            "Test: X=(10000, 28, 28), y=(10000,)\n"
          ]
        },
        {
          "output_type": "display_data",
          "data": {
            "text/plain": [
              "<Figure size 640x480 with 9 Axes>"
            ],
            "image/png": "[encoded data removed]"
          },
          "metadata": {}
        }
      ]
    },
    {
      "cell_type": "markdown",
      "source": [
        "We are using a [convolutional neural network](https://www.youtube.com/watch?v=YRhxdVk_sIs&ab_channel=deeplizard).  This type of [neural network](https://www.youtube.com/playlist?list=PLZHQObOWTQDNU6R1_67000Dx_ZCJB-3pi) is good at finding patterns in images."
      ],
      "metadata": {
        "id": "6_MpYuvgggLV"
      }
    },
    {
      "cell_type": "code",
      "source": [
        "# Define the model\n",
        "model = tf.keras.models.Sequential([\n",
        "\n",
        "    # Reshape the input from (28, 28) to (28, 28, 1) to explicitly specify one color channel (grayscale)\n",
        "    tf.keras.layers.Reshape(target_shape=(28, 28, 1), input_shape=(28, 28)),\n",
        "\n",
        "    # Convolutional layer:\n",
        "    # - 16 filters (feature detectors) of size 3x3\n",
        "    # - 'relu' activation function (ReLU helps introduce non-linearity)\n",
        "    # - Extracts features from the input image\n",
        "    tf.keras.layers.Conv2D(16, (3, 3), activation='relu'),\n",
        "\n",
        "    # Max Pooling layer:\n",
        "    # - Reduces the spatial dimensions by taking the maximum value in each 2x2 window\n",
        "    # - Helps downsample the feature maps, making computation more efficient\n",
        "    tf.keras.layers.MaxPooling2D((2, 2)),\n",
        "\n",
        "    # Flatten layer:\n",
        "    # - Converts the 2D feature maps into a 1D vector\n",
        "    # - Prepares the data for the dense (fully connected) layer\n",
        "    tf.keras.layers.Flatten(),\n",
        "\n",
        "    # Fully connected (Dense) output layer:\n",
        "    # - 10 neurons (one for each digit, assuming classification of digits 0-9)\n",
        "    # - 'softmax' activation function:\n",
        "    #   - Converts the outputs into probabilities summing to 1\n",
        "    #   - Helps classify the input into one of the 10 categories\n",
        "    tf.keras.layers.Dense(10, activation='softmax')\n",
        "])\n",
        "\n",
        "# Print a summary of the model structure, showing each layer's details\n",
        "model.summary()"
      ],
      "metadata": {
        "colab": {
          "base_uri": "https://localhost:8080/",
          "height": 350
        },
        "id": "GWsVxgS2FKei",
        "outputId": "c8d94302-de7f-46a7-ef91-0be5487360c4"
      },
      "execution_count": null,
      "outputs": [
        {
          "output_type": "stream",
          "name": "stderr",
          "text": [
            "/usr/local/lib/python3.11/dist-packages/keras/src/layers/reshaping/reshape.py:39: UserWarning: Do not pass an `input_shape`/`input_dim` argument to a layer. When using Sequential models, prefer using an `Input(shape)` object as the first layer in the model instead.\n",
            "  super().__init__(**kwargs)\n"
          ]
        },
        {
          "output_type": "display_data",
          "data": {
            "text/plain": [
              "\u001b[1mModel: \"sequential\"\u001b[0m\n"
            ],
            "text/html": [
              "<pre style=\"white-space:pre;overflow-x:auto;line-height:normal;font-family:Menlo,'DejaVu Sans Mono',consolas,'Courier New',monospace\"><span style=\"font-weight: bold\">Model: \"sequential\"</span>\n",
              "</pre>\n"
            ]
          },
          "metadata": {}
        },
        {
          "output_type": "display_data",
          "data": {
            "text/plain": [
              "┏━━━━━━━━━━━━━━━━━━━━━━━━━━━━━━━━━━━━━━┳━━━━━━━━━━━━━━━━━━━━━━━━━━━━━┳━━━━━━━━━━━━━━━━━┓\n",
              "┃\u001b[1m \u001b[0m\u001b[1mLayer (type)                        \u001b[0m\u001b[1m \u001b[0m┃\u001b[1m \u001b[0m\u001b[1mOutput Shape               \u001b[0m\u001b[1m \u001b[0m┃\u001b[1m \u001b[0m\u001b[1m        Param #\u001b[0m\u001b[1m \u001b[0m┃\n",
              "┡━━━━━━━━━━━━━━━━━━━━━━━━━━━━━━━━━━━━━━╇━━━━━━━━━━━━━━━━━━━━━━━━━━━━━╇━━━━━━━━━━━━━━━━━┩\n",
              "│ reshape (\u001b[38;5;33mReshape\u001b[0m)                    │ (\u001b[38;5;45mNone\u001b[0m, \u001b[38;5;34m28\u001b[0m, \u001b[38;5;34m28\u001b[0m, \u001b[38;5;34m1\u001b[0m)           │               \u001b[38;5;34m0\u001b[0m │\n",
              "├──────────────────────────────────────┼─────────────────────────────┼─────────────────┤\n",
              "│ conv2d (\u001b[38;5;33mConv2D\u001b[0m)                      │ (\u001b[38;5;45mNone\u001b[0m, \u001b[38;5;34m26\u001b[0m, \u001b[38;5;34m26\u001b[0m, \u001b[38;5;34m16\u001b[0m)          │             \u001b[38;5;34m160\u001b[0m │\n",
              "├──────────────────────────────────────┼─────────────────────────────┼─────────────────┤\n",
              "│ max_pooling2d (\u001b[38;5;33mMaxPooling2D\u001b[0m)         │ (\u001b[38;5;45mNone\u001b[0m, \u001b[38;5;34m13\u001b[0m, \u001b[38;5;34m13\u001b[0m, \u001b[38;5;34m16\u001b[0m)          │               \u001b[38;5;34m0\u001b[0m │\n",
              "├──────────────────────────────────────┼─────────────────────────────┼─────────────────┤\n",
              "│ flatten (\u001b[38;5;33mFlatten\u001b[0m)                    │ (\u001b[38;5;45mNone\u001b[0m, \u001b[38;5;34m2704\u001b[0m)                │               \u001b[38;5;34m0\u001b[0m │\n",
              "├──────────────────────────────────────┼─────────────────────────────┼─────────────────┤\n",
              "│ dense (\u001b[38;5;33mDense\u001b[0m)                        │ (\u001b[38;5;45mNone\u001b[0m, \u001b[38;5;34m10\u001b[0m)                  │          \u001b[38;5;34m27,050\u001b[0m │\n",
              "└──────────────────────────────────────┴─────────────────────────────┴─────────────────┘\n"
            ],
            "text/html": [
              "<pre style=\"white-space:pre;overflow-x:auto;line-height:normal;font-family:Menlo,'DejaVu Sans Mono',consolas,'Courier New',monospace\">┏━━━━━━━━━━━━━━━━━━━━━━━━━━━━━━━━━━━━━━┳━━━━━━━━━━━━━━━━━━━━━━━━━━━━━┳━━━━━━━━━━━━━━━━━┓\n",
              "┃<span style=\"font-weight: bold\"> Layer (type)                         </span>┃<span style=\"font-weight: bold\"> Output Shape                </span>┃<span style=\"font-weight: bold\">         Param # </span>┃\n",
              "┡━━━━━━━━━━━━━━━━━━━━━━━━━━━━━━━━━━━━━━╇━━━━━━━━━━━━━━━━━━━━━━━━━━━━━╇━━━━━━━━━━━━━━━━━┩\n",
              "│ reshape (<span style=\"color: #0087ff; text-decoration-color: #0087ff\">Reshape</span>)                    │ (<span style=\"color: #00d7ff; text-decoration-color: #00d7ff\">None</span>, <span style=\"color: #00af00; text-decoration-color: #00af00\">28</span>, <span style=\"color: #00af00; text-decoration-color: #00af00\">28</span>, <span style=\"color: #00af00; text-decoration-color: #00af00\">1</span>)           │               <span style=\"color: #00af00; text-decoration-color: #00af00\">0</span> │\n",
              "├──────────────────────────────────────┼─────────────────────────────┼─────────────────┤\n",
              "│ conv2d (<span style=\"color: #0087ff; text-decoration-color: #0087ff\">Conv2D</span>)                      │ (<span style=\"color: #00d7ff; text-decoration-color: #00d7ff\">None</span>, <span style=\"color: #00af00; text-decoration-color: #00af00\">26</span>, <span style=\"color: #00af00; text-decoration-color: #00af00\">26</span>, <span style=\"color: #00af00; text-decoration-color: #00af00\">16</span>)          │             <span style=\"color: #00af00; text-decoration-color: #00af00\">160</span> │\n",
              "├──────────────────────────────────────┼─────────────────────────────┼─────────────────┤\n",
              "│ max_pooling2d (<span style=\"color: #0087ff; text-decoration-color: #0087ff\">MaxPooling2D</span>)         │ (<span style=\"color: #00d7ff; text-decoration-color: #00d7ff\">None</span>, <span style=\"color: #00af00; text-decoration-color: #00af00\">13</span>, <span style=\"color: #00af00; text-decoration-color: #00af00\">13</span>, <span style=\"color: #00af00; text-decoration-color: #00af00\">16</span>)          │               <span style=\"color: #00af00; text-decoration-color: #00af00\">0</span> │\n",
              "├──────────────────────────────────────┼─────────────────────────────┼─────────────────┤\n",
              "│ flatten (<span style=\"color: #0087ff; text-decoration-color: #0087ff\">Flatten</span>)                    │ (<span style=\"color: #00d7ff; text-decoration-color: #00d7ff\">None</span>, <span style=\"color: #00af00; text-decoration-color: #00af00\">2704</span>)                │               <span style=\"color: #00af00; text-decoration-color: #00af00\">0</span> │\n",
              "├──────────────────────────────────────┼─────────────────────────────┼─────────────────┤\n",
              "│ dense (<span style=\"color: #0087ff; text-decoration-color: #0087ff\">Dense</span>)                        │ (<span style=\"color: #00d7ff; text-decoration-color: #00d7ff\">None</span>, <span style=\"color: #00af00; text-decoration-color: #00af00\">10</span>)                  │          <span style=\"color: #00af00; text-decoration-color: #00af00\">27,050</span> │\n",
              "└──────────────────────────────────────┴─────────────────────────────┴─────────────────┘\n",
              "</pre>\n"
            ]
          },
          "metadata": {}
        },
        {
          "output_type": "display_data",
          "data": {
            "text/plain": [
              "\u001b[1m Total params: \u001b[0m\u001b[38;5;34m27,210\u001b[0m (106.29 KB)\n"
            ],
            "text/html": [
              "<pre style=\"white-space:pre;overflow-x:auto;line-height:normal;font-family:Menlo,'DejaVu Sans Mono',consolas,'Courier New',monospace\"><span style=\"font-weight: bold\"> Total params: </span><span style=\"color: #00af00; text-decoration-color: #00af00\">27,210</span> (106.29 KB)\n",
              "</pre>\n"
            ]
          },
          "metadata": {}
        },
        {
          "output_type": "display_data",
          "data": {
            "text/plain": [
              "\u001b[1m Trainable params: \u001b[0m\u001b[38;5;34m27,210\u001b[0m (106.29 KB)\n"
            ],
            "text/html": [
              "<pre style=\"white-space:pre;overflow-x:auto;line-height:normal;font-family:Menlo,'DejaVu Sans Mono',consolas,'Courier New',monospace\"><span style=\"font-weight: bold\"> Trainable params: </span><span style=\"color: #00af00; text-decoration-color: #00af00\">27,210</span> (106.29 KB)\n",
              "</pre>\n"
            ]
          },
          "metadata": {}
        },
        {
          "output_type": "display_data",
          "data": {
            "text/plain": [
              "\u001b[1m Non-trainable params: \u001b[0m\u001b[38;5;34m0\u001b[0m (0.00 B)\n"
            ],
            "text/html": [
              "<pre style=\"white-space:pre;overflow-x:auto;line-height:normal;font-family:Menlo,'DejaVu Sans Mono',consolas,'Courier New',monospace\"><span style=\"font-weight: bold\"> Non-trainable params: </span><span style=\"color: #00af00; text-decoration-color: #00af00\">0</span> (0.00 B)\n",
              "</pre>\n"
            ]
          },
          "metadata": {}
        }
      ]
    },
    {
      "cell_type": "code",
      "source": [
        "# Define the model\n",
        "model = tf.keras.models.Sequential([\n",
        "    # Input layer: Reshape the image to have a single color channel\n",
        "    layers.Reshape(target_shape=(28, 28, 1), input_shape=(28, 28)),\n",
        "\n",
        "    # Convolutional layer 1: Learn 32 filters of size 3x3\n",
        "    layers.Conv2D(32, (3, 3), activation='relu', padding='same'),\n",
        "\n",
        "    # MaxPooling layer 1: Downsample the image\n",
        "    layers.MaxPooling2D((2, 2)),\n",
        "\n",
        "    # Convolutional layer 2: Learn 64 filters of size 3x3\n",
        "    layers.Conv2D(64, (3, 3), activation='relu', padding='same'),\n",
        "\n",
        "    # MaxPooling layer 2: Downsample again\n",
        "    layers.MaxPooling2D((2, 2)),\n",
        "\n",
        "    # Flatten the 2D output to 1D\n",
        "    layers.Flatten(),\n",
        "\n",
        "    # Fully connected layer: Dense layer with 128 units\n",
        "    layers.Dense(128, activation='relu'),\n",
        "\n",
        "    # Output layer: 10 units (one for each digit), with softmax activation for classification\n",
        "    layers.Dense(10, activation='softmax')\n",
        "])\n",
        "model.summary()"
      ],
      "metadata": {
        "id": "06aWXc8KFYxV",
        "colab": {
          "base_uri": "https://localhost:8080/",
          "height": 393
        },
        "outputId": "2acd172b-8800-4599-f858-abdfb2c93b66"
      },
      "execution_count": null,
      "outputs": [
        {
          "output_type": "display_data",
          "data": {
            "text/plain": [
              "\u001b[1mModel: \"sequential_1\"\u001b[0m\n"
            ],
            "text/html": [
              "<pre style=\"white-space:pre;overflow-x:auto;line-height:normal;font-family:Menlo,'DejaVu Sans Mono',consolas,'Courier New',monospace\"><span style=\"font-weight: bold\">Model: \"sequential_1\"</span>\n",
              "</pre>\n"
            ]
          },
          "metadata": {}
        },
        {
          "output_type": "display_data",
          "data": {
            "text/plain": [
              "┏━━━━━━━━━━━━━━━━━━━━━━━━━━━━━━━━━━━━━━┳━━━━━━━━━━━━━━━━━━━━━━━━━━━━━┳━━━━━━━━━━━━━━━━━┓\n",
              "┃\u001b[1m \u001b[0m\u001b[1mLayer (type)                        \u001b[0m\u001b[1m \u001b[0m┃\u001b[1m \u001b[0m\u001b[1mOutput Shape               \u001b[0m\u001b[1m \u001b[0m┃\u001b[1m \u001b[0m\u001b[1m        Param #\u001b[0m\u001b[1m \u001b[0m┃\n",
              "┡━━━━━━━━━━━━━━━━━━━━━━━━━━━━━━━━━━━━━━╇━━━━━━━━━━━━━━━━━━━━━━━━━━━━━╇━━━━━━━━━━━━━━━━━┩\n",
              "│ reshape_1 (\u001b[38;5;33mReshape\u001b[0m)                  │ (\u001b[38;5;45mNone\u001b[0m, \u001b[38;5;34m28\u001b[0m, \u001b[38;5;34m28\u001b[0m, \u001b[38;5;34m1\u001b[0m)           │               \u001b[38;5;34m0\u001b[0m │\n",
              "├──────────────────────────────────────┼─────────────────────────────┼─────────────────┤\n",
              "│ conv2d_1 (\u001b[38;5;33mConv2D\u001b[0m)                    │ (\u001b[38;5;45mNone\u001b[0m, \u001b[38;5;34m28\u001b[0m, \u001b[38;5;34m28\u001b[0m, \u001b[38;5;34m32\u001b[0m)          │             \u001b[38;5;34m320\u001b[0m │\n",
              "├──────────────────────────────────────┼─────────────────────────────┼─────────────────┤\n",
              "│ max_pooling2d_1 (\u001b[38;5;33mMaxPooling2D\u001b[0m)       │ (\u001b[38;5;45mNone\u001b[0m, \u001b[38;5;34m14\u001b[0m, \u001b[38;5;34m14\u001b[0m, \u001b[38;5;34m32\u001b[0m)          │               \u001b[38;5;34m0\u001b[0m │\n",
              "├──────────────────────────────────────┼─────────────────────────────┼─────────────────┤\n",
              "│ conv2d_2 (\u001b[38;5;33mConv2D\u001b[0m)                    │ (\u001b[38;5;45mNone\u001b[0m, \u001b[38;5;34m14\u001b[0m, \u001b[38;5;34m14\u001b[0m, \u001b[38;5;34m64\u001b[0m)          │          \u001b[38;5;34m18,496\u001b[0m │\n",
              "├──────────────────────────────────────┼─────────────────────────────┼─────────────────┤\n",
              "│ max_pooling2d_2 (\u001b[38;5;33mMaxPooling2D\u001b[0m)       │ (\u001b[38;5;45mNone\u001b[0m, \u001b[38;5;34m7\u001b[0m, \u001b[38;5;34m7\u001b[0m, \u001b[38;5;34m64\u001b[0m)            │               \u001b[38;5;34m0\u001b[0m │\n",
              "├──────────────────────────────────────┼─────────────────────────────┼─────────────────┤\n",
              "│ flatten_1 (\u001b[38;5;33mFlatten\u001b[0m)                  │ (\u001b[38;5;45mNone\u001b[0m, \u001b[38;5;34m3136\u001b[0m)                │               \u001b[38;5;34m0\u001b[0m │\n",
              "├──────────────────────────────────────┼─────────────────────────────┼─────────────────┤\n",
              "│ dense_1 (\u001b[38;5;33mDense\u001b[0m)                      │ (\u001b[38;5;45mNone\u001b[0m, \u001b[38;5;34m128\u001b[0m)                 │         \u001b[38;5;34m401,536\u001b[0m │\n",
              "├──────────────────────────────────────┼─────────────────────────────┼─────────────────┤\n",
              "│ dense_2 (\u001b[38;5;33mDense\u001b[0m)                      │ (\u001b[38;5;45mNone\u001b[0m, \u001b[38;5;34m10\u001b[0m)                  │           \u001b[38;5;34m1,290\u001b[0m │\n",
              "└──────────────────────────────────────┴─────────────────────────────┴─────────────────┘\n"
            ],
            "text/html": [
              "<pre style=\"white-space:pre;overflow-x:auto;line-height:normal;font-family:Menlo,'DejaVu Sans Mono',consolas,'Courier New',monospace\">┏━━━━━━━━━━━━━━━━━━━━━━━━━━━━━━━━━━━━━━┳━━━━━━━━━━━━━━━━━━━━━━━━━━━━━┳━━━━━━━━━━━━━━━━━┓\n",
              "┃<span style=\"font-weight: bold\"> Layer (type)                         </span>┃<span style=\"font-weight: bold\"> Output Shape                </span>┃<span style=\"font-weight: bold\">         Param # </span>┃\n",
              "┡━━━━━━━━━━━━━━━━━━━━━━━━━━━━━━━━━━━━━━╇━━━━━━━━━━━━━━━━━━━━━━━━━━━━━╇━━━━━━━━━━━━━━━━━┩\n",
              "│ reshape_1 (<span style=\"color: #0087ff; text-decoration-color: #0087ff\">Reshape</span>)                  │ (<span style=\"color: #00d7ff; text-decoration-color: #00d7ff\">None</span>, <span style=\"color: #00af00; text-decoration-color: #00af00\">28</span>, <span style=\"color: #00af00; text-decoration-color: #00af00\">28</span>, <span style=\"color: #00af00; text-decoration-color: #00af00\">1</span>)           │               <span style=\"color: #00af00; text-decoration-color: #00af00\">0</span> │\n",
              "├──────────────────────────────────────┼─────────────────────────────┼─────────────────┤\n",
              "│ conv2d_1 (<span style=\"color: #0087ff; text-decoration-color: #0087ff\">Conv2D</span>)                    │ (<span style=\"color: #00d7ff; text-decoration-color: #00d7ff\">None</span>, <span style=\"color: #00af00; text-decoration-color: #00af00\">28</span>, <span style=\"color: #00af00; text-decoration-color: #00af00\">28</span>, <span style=\"color: #00af00; text-decoration-color: #00af00\">32</span>)          │             <span style=\"color: #00af00; text-decoration-color: #00af00\">320</span> │\n",
              "├──────────────────────────────────────┼─────────────────────────────┼─────────────────┤\n",
              "│ max_pooling2d_1 (<span style=\"color: #0087ff; text-decoration-color: #0087ff\">MaxPooling2D</span>)       │ (<span style=\"color: #00d7ff; text-decoration-color: #00d7ff\">None</span>, <span style=\"color: #00af00; text-decoration-color: #00af00\">14</span>, <span style=\"color: #00af00; text-decoration-color: #00af00\">14</span>, <span style=\"color: #00af00; text-decoration-color: #00af00\">32</span>)          │               <span style=\"color: #00af00; text-decoration-color: #00af00\">0</span> │\n",
              "├──────────────────────────────────────┼─────────────────────────────┼─────────────────┤\n",
              "│ conv2d_2 (<span style=\"color: #0087ff; text-decoration-color: #0087ff\">Conv2D</span>)                    │ (<span style=\"color: #00d7ff; text-decoration-color: #00d7ff\">None</span>, <span style=\"color: #00af00; text-decoration-color: #00af00\">14</span>, <span style=\"color: #00af00; text-decoration-color: #00af00\">14</span>, <span style=\"color: #00af00; text-decoration-color: #00af00\">64</span>)          │          <span style=\"color: #00af00; text-decoration-color: #00af00\">18,496</span> │\n",
              "├──────────────────────────────────────┼─────────────────────────────┼─────────────────┤\n",
              "│ max_pooling2d_2 (<span style=\"color: #0087ff; text-decoration-color: #0087ff\">MaxPooling2D</span>)       │ (<span style=\"color: #00d7ff; text-decoration-color: #00d7ff\">None</span>, <span style=\"color: #00af00; text-decoration-color: #00af00\">7</span>, <span style=\"color: #00af00; text-decoration-color: #00af00\">7</span>, <span style=\"color: #00af00; text-decoration-color: #00af00\">64</span>)            │               <span style=\"color: #00af00; text-decoration-color: #00af00\">0</span> │\n",
              "├──────────────────────────────────────┼─────────────────────────────┼─────────────────┤\n",
              "│ flatten_1 (<span style=\"color: #0087ff; text-decoration-color: #0087ff\">Flatten</span>)                  │ (<span style=\"color: #00d7ff; text-decoration-color: #00d7ff\">None</span>, <span style=\"color: #00af00; text-decoration-color: #00af00\">3136</span>)                │               <span style=\"color: #00af00; text-decoration-color: #00af00\">0</span> │\n",
              "├──────────────────────────────────────┼─────────────────────────────┼─────────────────┤\n",
              "│ dense_1 (<span style=\"color: #0087ff; text-decoration-color: #0087ff\">Dense</span>)                      │ (<span style=\"color: #00d7ff; text-decoration-color: #00d7ff\">None</span>, <span style=\"color: #00af00; text-decoration-color: #00af00\">128</span>)                 │         <span style=\"color: #00af00; text-decoration-color: #00af00\">401,536</span> │\n",
              "├──────────────────────────────────────┼─────────────────────────────┼─────────────────┤\n",
              "│ dense_2 (<span style=\"color: #0087ff; text-decoration-color: #0087ff\">Dense</span>)                      │ (<span style=\"color: #00d7ff; text-decoration-color: #00d7ff\">None</span>, <span style=\"color: #00af00; text-decoration-color: #00af00\">10</span>)                  │           <span style=\"color: #00af00; text-decoration-color: #00af00\">1,290</span> │\n",
              "└──────────────────────────────────────┴─────────────────────────────┴─────────────────┘\n",
              "</pre>\n"
            ]
          },
          "metadata": {}
        },
        {
          "output_type": "display_data",
          "data": {
            "text/plain": [
              "\u001b[1m Total params: \u001b[0m\u001b[38;5;34m421,642\u001b[0m (1.61 MB)\n"
            ],
            "text/html": [
              "<pre style=\"white-space:pre;overflow-x:auto;line-height:normal;font-family:Menlo,'DejaVu Sans Mono',consolas,'Courier New',monospace\"><span style=\"font-weight: bold\"> Total params: </span><span style=\"color: #00af00; text-decoration-color: #00af00\">421,642</span> (1.61 MB)\n",
              "</pre>\n"
            ]
          },
          "metadata": {}
        },
        {
          "output_type": "display_data",
          "data": {
            "text/plain": [
              "\u001b[1m Trainable params: \u001b[0m\u001b[38;5;34m421,642\u001b[0m (1.61 MB)\n"
            ],
            "text/html": [
              "<pre style=\"white-space:pre;overflow-x:auto;line-height:normal;font-family:Menlo,'DejaVu Sans Mono',consolas,'Courier New',monospace\"><span style=\"font-weight: bold\"> Trainable params: </span><span style=\"color: #00af00; text-decoration-color: #00af00\">421,642</span> (1.61 MB)\n",
              "</pre>\n"
            ]
          },
          "metadata": {}
        },
        {
          "output_type": "display_data",
          "data": {
            "text/plain": [
              "\u001b[1m Non-trainable params: \u001b[0m\u001b[38;5;34m0\u001b[0m (0.00 B)\n"
            ],
            "text/html": [
              "<pre style=\"white-space:pre;overflow-x:auto;line-height:normal;font-family:Menlo,'DejaVu Sans Mono',consolas,'Courier New',monospace\"><span style=\"font-weight: bold\"> Non-trainable params: </span><span style=\"color: #00af00; text-decoration-color: #00af00\">0</span> (0.00 B)\n",
              "</pre>\n"
            ]
          },
          "metadata": {}
        }
      ]
    },
    {
      "cell_type": "code",
      "source": [
        "# Compile the model:\n",
        "# The 'adam' optimizer is used, which is an efficient optimization algorithm.\n",
        "# The loss function is 'sparse_categorical_crossentropy', which is suitable for multi-class classification.\n",
        "# We are tracking the 'accuracy' metric to evaluate the model performance.\n",
        "model.compile(optimizer='adam', loss='sparse_categorical_crossentropy', metrics=['accuracy'])\n",
        "\n",
        "# Train the model:\n",
        "# Use the training data to train the model for 10 epochs.\n",
        "# The model will learn to classify digits in the MNIST dataset.\n",
        "# `verbose=1` shows detailed progress during training (including loss and accuracy per epoch).\n",
        "model.fit(x_train, y_train, epochs=3, verbose=1, validation_split=0.2)  # Using test set for validation during training\n",
        "\n",
        "# ---------------------------------\n",
        "# 🔹 Evaluate the Model on Test Data\n",
        "# ---------------------------------\n",
        "\n",
        "# After training, evaluate the model on the test data to check how well it performs on unseen data.\n",
        "test_loss, test_accuracy = model.evaluate(x_test, y_test, verbose=2)\n",
        "\n",
        "# Print the test accuracy and loss\n",
        "print(f\"Test accuracy: {test_accuracy}\")\n",
        "print(f\"Test loss: {test_loss}\")"
      ],
      "metadata": {
        "colab": {
          "base_uri": "https://localhost:8080/"
        },
        "id": "QS8md1i74u1M",
        "outputId": "b6346f01-d8d4-46f8-f849-5bb46cc092b0"
      },
      "execution_count": null,
      "outputs": [
        {
          "output_type": "stream",
          "name": "stdout",
          "text": [
            "Epoch 1/3\n",
            "\u001b[1m1500/1500\u001b[0m \u001b[32m━━━━━━━━━━━━━━━━━━━━\u001b[0m\u001b[37m\u001b[0m \u001b[1m75s\u001b[0m 49ms/step - accuracy: 0.9006 - loss: 0.3167 - val_accuracy: 0.9840 - val_loss: 0.0577\n",
            "Epoch 2/3\n",
            "\u001b[1m1500/1500\u001b[0m \u001b[32m━━━━━━━━━━━━━━━━━━━━\u001b[0m\u001b[37m\u001b[0m \u001b[1m69s\u001b[0m 46ms/step - accuracy: 0.9859 - loss: 0.0477 - val_accuracy: 0.9854 - val_loss: 0.0497\n",
            "Epoch 3/3\n",
            "\u001b[1m1500/1500\u001b[0m \u001b[32m━━━━━━━━━━━━━━━━━━━━\u001b[0m\u001b[37m\u001b[0m \u001b[1m89s\u001b[0m 51ms/step - accuracy: 0.9903 - loss: 0.0296 - val_accuracy: 0.9887 - val_loss: 0.0398\n",
            "313/313 - 5s - 16ms/step - accuracy: 0.9891 - loss: 0.0340\n",
            "Test accuracy: 0.9890999794006348\n",
            "Test loss: 0.03396881744265556\n"
          ]
        }
      ]
    },
    {
      "cell_type": "code",
      "source": [
        "# -------------------------------\n",
        "# 🔹 JavaScript-Based Drawing Tool\n",
        "# -------------------------------\n",
        "\n",
        "canvas_html = \"\"\"\n",
        "<canvas id=\"canvas\" width=\"280\" height=\"280\" style=\"border:1px solid;\"></canvas>\n",
        "<button onclick=\"upload()\">Predict</button>\n",
        "<script>\n",
        "  // Get the drawing canvas and context\n",
        "  let canvas = document.getElementById(\"canvas\");\n",
        "  let ctx = canvas.getContext(\"2d\");\n",
        "\n",
        "  // Set background color to black (since MNIST uses white digits on black)\n",
        "  ctx.fillStyle = \"black\";\n",
        "  ctx.fillRect(0, 0, canvas.width, canvas.height);\n",
        "\n",
        "  // Variable to track if the user is drawing\n",
        "  let drawing = false;\n",
        "\n",
        "  // Mouse event listeners for drawing\n",
        "  canvas.addEventListener(\"mousedown\", () => drawing = true);  // Start drawing\n",
        "  canvas.addEventListener(\"mouseup\", () => { drawing = false; ctx.beginPath(); });  // Stop drawing\n",
        "  canvas.addEventListener(\"mousemove\", draw);  // Call 'draw' function when moving mouse\n",
        "\n",
        "  function draw(e) {\n",
        "    if (!drawing) return;  // If not drawing, exit function\n",
        "\n",
        "    ctx.lineWidth = 10;  // Set brush thickness\n",
        "\n",
        "    ctx.strokeStyle = \"white\";  // Draw in white (like MNIST digits)\n",
        "\n",
        "    ctx.lineTo(e.offsetX, e.offsetY);  // Draw to current mouse position\n",
        "    ctx.stroke();  // Apply stroke\n",
        "\n",
        "    ctx.beginPath();  // Reset path to avoid connecting separate strokes\n",
        "    ctx.moveTo(e.offsetX, e.offsetY);  // Move path to current position\n",
        "  }\n",
        "\n",
        "  // Upload function triggered when \"Predict\" button is clicked\n",
        "  function upload() {\n",
        "    let dataURL = canvas.toDataURL(\"image/png\");  // Convert canvas to image data (Base64 PNG)\n",
        "    google.colab.kernel.invokeFunction(\"notebook.upload_image\", [dataURL], {});  // Send to Colab\n",
        "  }\n",
        "</script>\n",
        "\"\"\"\n",
        "\n",
        "# Display the drawing canvas in Colab\n",
        "display(HTML(canvas_html))\n",
        "\n",
        "# -------------------------------\n",
        "# 🔹 Image Processing & Prediction\n",
        "# -------------------------------\n",
        "\n",
        "def predict_digit(image_data):\n",
        "    # Decode the uploaded image data\n",
        "    image = PIL.Image.open(io.BytesIO(image_data)).convert('L')  # Convert to grayscale\n",
        "    image = image.resize((28, 28))  # Resize to match MNIST input size\n",
        "    image = np.array(image) / 255.0  # Normalize pixel values to the range [0, 1]\n",
        "    image = image.reshape(1, 28, 28)  # Reshape to the required input shape for the model\n",
        "\n",
        "    # Display the processed image before making a prediction\n",
        "    plt.imshow(image.reshape(28, 28), cmap='gray')\n",
        "    plt.title(\"Processed Image Before Prediction\")\n",
        "    plt.axis('off')\n",
        "    plt.show()\n",
        "\n",
        "    # Make the prediction\n",
        "    prediction = model.predict(image)\n",
        "\n",
        "    # Get the predicted digit (highest probability)\n",
        "    predicted_digit = np.argmax(prediction)\n",
        "\n",
        "    # Get probabilities for all digits\n",
        "    probabilities = prediction[0]\n",
        "\n",
        "    # Print the predicted digit\n",
        "    print(f\"Predicted digit: {predicted_digit}\")\n",
        "\n",
        "    # Print the probabilities for all digits\n",
        "    for i in range(10):\n",
        "        print(f\"Probability of {i}: {probabilities[i]:.4f}\")\n",
        "\n",
        "# -------------------------------\n",
        "# 🔹 Handling Image Upload from Canvas\n",
        "# -------------------------------\n",
        "\n",
        "def upload_image(dataURL):\n",
        "    \"\"\"Decodes the Base64 image and sends it to the prediction function.\"\"\"\n",
        "\n",
        "    # Extract and decode the Base64-encoded image data\n",
        "    header, encoded = dataURL.split(\",\", 1)  # Remove header metadata\n",
        "    image_data = b64decode(encoded)  # Convert from Base64 to binary data\n",
        "\n",
        "    # Process the image and predict the digit\n",
        "    predict_digit(image_data)\n",
        "\n",
        "# Register the upload function as a callback in Google Colab\n",
        "output.register_callback(\"notebook.upload_image\", upload_image)"
      ],
      "metadata": {
        "id": "1eHnk8f64-nA",
        "colab": {
          "base_uri": "https://localhost:8080/",
          "height": 927
        },
        "outputId": "1083ccde-473a-4bce-cc0b-201e738c3111"
      },
      "execution_count": null,
      "outputs": [
        {
          "output_type": "display_data",
          "data": {
            "text/plain": [
              "<IPython.core.display.HTML object>"
            ],
            "text/html": [
              "\n",
              "<canvas id=\"canvas\" width=\"280\" height=\"280\" style=\"border:1px solid;\"></canvas>\n",
              "<button onclick=\"upload()\">Predict</button>\n",
              "<script>\n",
              "  // Get the drawing canvas and context\n",
              "  let canvas = document.getElementById(\"canvas\");\n",
              "  let ctx = canvas.getContext(\"2d\");\n",
              "\n",
              "  // Set background color to black (since MNIST uses white digits on black)\n",
              "  ctx.fillStyle = \"black\";\n",
              "  ctx.fillRect(0, 0, canvas.width, canvas.height);\n",
              "\n",
              "  // Variable to track if the user is drawing\n",
              "  let drawing = false;\n",
              "\n",
              "  // Mouse event listeners for drawing\n",
              "  canvas.addEventListener(\"mousedown\", () => drawing = true);  // Start drawing\n",
              "  canvas.addEventListener(\"mouseup\", () => { drawing = false; ctx.beginPath(); });  // Stop drawing\n",
              "  canvas.addEventListener(\"mousemove\", draw);  // Call 'draw' function when moving mouse\n",
              "\n",
              "  function draw(e) {\n",
              "    if (!drawing) return;  // If not drawing, exit function\n",
              "\n",
              "    ctx.lineWidth = 10;  // Set brush thickness\n",
              "\n",
              "    ctx.strokeStyle = \"white\";  // Draw in white (like MNIST digits)\n",
              "\n",
              "    ctx.lineTo(e.offsetX, e.offsetY);  // Draw to current mouse position\n",
              "    ctx.stroke();  // Apply stroke\n",
              "\n",
              "    ctx.beginPath();  // Reset path to avoid connecting separate strokes\n",
              "    ctx.moveTo(e.offsetX, e.offsetY);  // Move path to current position\n",
              "  }\n",
              "\n",
              "  // Upload function triggered when \"Predict\" button is clicked\n",
              "  function upload() {\n",
              "    let dataURL = canvas.toDataURL(\"image/png\");  // Convert canvas to image data (Base64 PNG)\n",
              "    google.colab.kernel.invokeFunction(\"notebook.upload_image\", [dataURL], {});  // Send to Colab\n",
              "  }\n",
              "</script>\n"
            ]
          },
          "metadata": {}
        },
        {
          "output_type": "display_data",
          "data": {
            "text/plain": [
              "<Figure size 640x480 with 1 Axes>"
            ],
            "image/png": "[encoded data removed]"
          },
          "metadata": {}
        },
        {
          "output_type": "stream",
          "name": "stdout",
          "text": [
            "\u001b[1m1/1\u001b[0m \u001b[32m━━━━━━━━━━━━━━━━━━━━\u001b[0m\u001b[37m\u001b[0m \u001b[1m0s\u001b[0m 111ms/step\n",
            "Predicted digit: 4\n",
            "Probability of 0: 0.0152\n",
            "Probability of 1: 0.0019\n",
            "Probability of 2: 0.0315\n",
            "Probability of 3: 0.3798\n",
            "Probability of 4: 0.4560\n",
            "Probability of 5: 0.0510\n",
            "Probability of 6: 0.0461\n",
            "Probability of 7: 0.0078\n",
            "Probability of 8: 0.0103\n",
            "Probability of 9: 0.0003\n"
          ]
        }
      ]
    }
  ]
}